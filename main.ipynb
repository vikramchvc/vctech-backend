{
 "cells": [
  {
   "cell_type": "code",
   "execution_count": 8,
   "metadata": {},
   "outputs": [],
   "source": [
    "from youtube_transcript_api import YouTubeTranscriptApi\n",
    "from youtube_transcript_api._errors import NoTranscriptFound\n",
    "\n",
    "def format_time(time):\n",
    "        hours, remainder = divmod(time, 3600)\n",
    "        minutes, seconds = divmod(remainder, 60)\n",
    "        if(hours==0):\n",
    "            return f'{int(minutes):02d}:{int(seconds):02d}'\n",
    "        else:\n",
    "            return f'{int(hours):02d}:{int(minutes):02d}' \n",
    "def getTransScript(video_id):\n",
    "        transcript_list = YouTubeTranscriptApi.list_transcripts(video_id)\n",
    "        try:\n",
    "            transcript = transcript_list.find_transcript(['en'])\n",
    "        except NoTranscriptFound:\n",
    "            return \"noTransscript\"\n",
    "\n",
    "\n",
    "        \n",
    "\n",
    "        transcript_data = transcript.fetch()            \n",
    "\n",
    "        print(\"transcript_listvc   jbjnhinjn\")\n",
    "        print(transcript_data)\n",
    "\n",
    "        outputJsonArray = []\n",
    "        chunk_duration = 20  \n",
    "        chunk_start = 0\n",
    "        chunk_text = \"\"\n",
    "\n",
    "        for line in transcript_data:\n",
    "            if line['start'] < chunk_start + chunk_duration:\n",
    "                chunk_text += line['text'] + \" \"\n",
    "            else:\n",
    "                end_time = chunk_start + chunk_duration\n",
    "                start_time_formatted = format_time(chunk_start)\n",
    "                objJson={\n",
    "                    \"start\":start_time_formatted,\n",
    "                    \"text\":chunk_text.strip()\n",
    "                }\n",
    "                outputJsonArray.append(objJson)\n",
    "                chunk_start = end_time\n",
    "                chunk_text = line['text'] + \" \"\n",
    "        if chunk_text:\n",
    "            end_time = chunk_start + chunk_duration\n",
    "            start_time_formatted = format_time(chunk_start)\n",
    "            objJson={\n",
    "                    \"start\":start_time_formatted,\n",
    "                    \"text\":chunk_text.strip()\n",
    "            }\n",
    "            outputJsonArray.append(objJson)\n",
    "                \n",
    "        return outputJsonArray"
   ]
  },
  {
   "cell_type": "code",
   "execution_count": 9,
   "metadata": {},
   "outputs": [
    {
     "name": "stdout",
     "output_type": "stream",
     "text": [
      "transcript_listvc   jbjnhinjn\n",
      "{'text': 'foreign', 'start': 0.12, 'duration': 14.05}\n",
      "{'text': 'the next video bye', 'start': 500.94, 'duration': 3.539}\n"
     ]
    },
    {
     "data": {
      "text/plain": [
       "[{'start': '00:00',\n",
       "  'text': 'foreign [Music] [Applause] [Music] welcome to my channel in this video I will explain how to'},\n",
       " {'start': '00:20',\n",
       "  'text': 'create single react authentication system with GWT authentication the to create it I will use jingle rest out Library Tango Resort library is built on simple GWT engine all out so with this Library you can also create'},\n",
       " {'start': '00:40',\n",
       "  'text': \"a social login system in this case I'm gonna use Google login system this video would be long if I only made it in one video so I'm going to split this video into 9 videos okay at first you can create an empty directory for your project and open it\"},\n",
       " {'start': '01:00',\n",
       "  'text': \"in Visual Studio code I'm gonna create backend system in advance so I will go right back and do it already and create virtual environment inside of the directory foreign\"},\n",
       " {'start': '01:20',\n",
       "  'text': 'following are the libraries that I need for creating make an application generates out with social will install gengaris out and jingle all out at once jingle course headers are required to'},\n",
       " {'start': '01:40',\n",
       "  'text': 'configure which application are allowed access our backend API points Honduras framework and Django rest framework simple JV they are necessarily various to implement jingle rest out you can install them in terminal'},\n",
       " {'start': '02:00',\n",
       "  'text': '[Music] then create single project and create an'},\n",
       " {'start': '02:20',\n",
       "  'text': 'application for configuring user model in this case I named the project back inside and I name the application accounts come on [Music]'},\n",
       " {'start': '02:40',\n",
       "  'text': 'now you can start to configure settings.py [Music] they are the application that you need to include in installed app where you have the previously installed'},\n",
       " {'start': '03:00',\n",
       "  'text': 'then you can add middleware setting this modular setting for applying course headers put it in between of session middleware and common middleware [Music]'},\n",
       " {'start': '03:20',\n",
       "  'text': \"set ID equal 1 is record setting when you apply jingle all out the settings mean I'm not gonna use username in my custom user model then the settings means I'm gonna use\"},\n",
       " {'start': '03:40',\n",
       "  'text': \"email as Authentication and I'm gonna use email verification when they are sign up or reset password [Music] for Dangerous framework configuration you are needing to Define default authentication class as gwt2k\"},\n",
       " {'start': '04:00',\n",
       "  'text': \"Authentication simple GWT or configuration you only need to Define access token and refresh token lifetimes in this case I'm gonna set access token for 5 minutes and refresh token for two hours that mean after 5 minutes my access token will be\"},\n",
       " {'start': '04:20',\n",
       "  'text': 'invalid so I need to authenticate my refresh token to get new access token then after two hours my refresh station will be invalid too so I need to re-log in to get new access token and refresh token [Music]'},\n",
       " {'start': '04:40',\n",
       "  'text': 'configuration for Jingle rest out use given through means you will use GWT authentication you will get access token as respond when you log in GWT out cookie and refresh cookie mean giving cookies name or access and refresh'},\n",
       " {'start': '05:00',\n",
       "  'text': 'GWT out HTTP only false will send you refresh token as respawn also when you are when use login if you set true you will not get refresh token as response session login files menu will not use session as authentication and'},\n",
       " {'start': '05:20',\n",
       "  'text': 'last of password field enabled true means you need all password verification when you change your password the next setting is course loud origin this means you control which apps you give permission to access your endpoint'},\n",
       " {'start': '05:40',\n",
       "  'text': 'API in this case I put HTTP localhost 3000 that is origin from react development server the next you need to configure send email settings'},\n",
       " {'start': '06:00',\n",
       "  'text': 'required when you want to create email verification for a new user or when you want to create reset password with email confirmation in this case I will use configuration using Gmail you need to visit https my account.google.com'},\n",
       " {'start': '06:20',\n",
       "  'text': '[Music] you can choose security and you can choose two-step verification if you have not verification step verification you can verificate it first'},\n",
       " {'start': '06:40',\n",
       "  'text': \"it's only ask you to verification with your phone number okay you can choose this [Music] and you can scroll down and find a password and you can click a password\"},\n",
       " {'start': '07:00',\n",
       "  'text': 'and select app you can choose other and give the name for your application you can name anything in here I will name it and generate and then finally I get'},\n",
       " {'start': '07:20',\n",
       "  'text': 'password for my device you can copy this okay you can pass it in here in email host password and you can put your email then you can move to urls.py'},\n",
       " {'start': '07:40',\n",
       "  'text': 'and import include and put this path in universe.py'},\n",
       " {'start': '08:00',\n",
       "  'text': 'okay finish that is the configuration you needed after this you can create custom user model in jingle okay guys thanks for watching if you think this video is useful Please Subscribe comment and share see you in'},\n",
       " {'start': '08:20', 'text': 'the next video bye'}]"
      ]
     },
     "execution_count": 9,
     "metadata": {},
     "output_type": "execute_result"
    }
   ],
   "source": [
    "getTransScript(\"2pBzVtevmJI\")"
   ]
  },
  {
   "cell_type": "code",
   "execution_count": null,
   "metadata": {},
   "outputs": [],
   "source": []
  }
 ],
 "metadata": {
  "kernelspec": {
   "display_name": ".venv",
   "language": "python",
   "name": "python3"
  },
  "language_info": {
   "codemirror_mode": {
    "name": "ipython",
    "version": 3
   },
   "file_extension": ".py",
   "mimetype": "text/x-python",
   "name": "python",
   "nbconvert_exporter": "python",
   "pygments_lexer": "ipython3",
   "version": "3.8.10"
  },
  "orig_nbformat": 4
 },
 "nbformat": 4,
 "nbformat_minor": 2
}
